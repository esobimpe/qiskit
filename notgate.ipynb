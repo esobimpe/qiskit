{
  "nbformat": 4,
  "nbformat_minor": 0,
  "metadata": {
    "colab": {
      "name": "notgate.ipynb",
      "version": "0.3.2",
      "provenance": [],
      "include_colab_link": true
    },
    "kernelspec": {
      "name": "python3",
      "display_name": "Python 3"
    }
  },
  "cells": [
    {
      "cell_type": "markdown",
      "metadata": {
        "id": "view-in-github",
        "colab_type": "text"
      },
      "source": [
        "<a href=\"https://colab.research.google.com/github/esobimpe/qiskit/blob/master/notgate.ipynb\" target=\"_parent\"><img src=\"https://colab.research.google.com/assets/colab-badge.svg\" alt=\"Open In Colab\"/></a>"
      ]
    },
    {
      "cell_type": "code",
      "metadata": {
        "id": "dDMNbF_niz_L",
        "colab_type": "code",
        "colab": {}
      },
      "source": [
        "!pip install qiskit\n",
        "\n",
        "\n"
      ],
      "execution_count": 0,
      "outputs": []
    },
    {
      "cell_type": "code",
      "metadata": {
        "id": "fXQ0uoDzjS62",
        "colab_type": "code",
        "colab": {
          "base_uri": "https://localhost:8080/",
          "height": 360
        },
        "outputId": "c0f74c17-9efe-4347-99d5-c1e8849cad07"
      },
      "source": [
        "# Include the necessary imports for this program\n",
        "import numpy as np\n",
        "from qiskit import QuantumCircuit, ClassicalRegister, QuantumRegister\n",
        "from qiskit import execute\n",
        "\n",
        "# Create a Quantum Register with 1 qubit (wire).\n",
        "qr = QuantumRegister(1)\n",
        "\n",
        "# Create a Classical Register with 1 bit (double wires).\n",
        "cr = ClassicalRegister(1)\n",
        "\n",
        "# Create a Quantum Circuit from the quantum and classical registers\n",
        "circ = QuantumCircuit(qr, cr)\n",
        "\n",
        "# Place an X gate on the qubit wire. The registers are zero-indexed.\n",
        "circ.x(qr[0])\n",
        "\n",
        "# Measure the qubit into the classical register\n",
        "circ.measure(qr, cr)\n",
        "\n",
        "# Draw the circuit\n",
        "print(circ.draw(output='mpl'))\n",
        "\n",
        "# Import BasicAer\n",
        "from qiskit import BasicAer\n",
        "\n",
        "# Use BasicAer's qasm_simulator\n",
        "backend_sim = BasicAer.get_backend('qasm_simulator')\n",
        "\n",
        "# Execute the circuit on the qasm simulator, running it 100 times.\n",
        "job_sim = execute(circ, backend_sim, shots=100)\n",
        "\n",
        "# Grab the results from the job.\n",
        "result_sim = job_sim.result()\n",
        "\n",
        "# Print the counts, which are contained in a Python dictionary\n",
        "counts = result_sim.get_counts(circ)\n",
        "print(counts)\n",
        "\n",
        "from qiskit.tools.visualization import plot_histogram\n",
        "\n",
        "# Plot the results on a bar chart\n",
        "plot_histogram(counts)"
      ],
      "execution_count": 7,
      "outputs": [
        {
          "output_type": "stream",
          "text": [
            "Figure(361.2x138.46)\n",
            "{'1': 100}\n"
          ],
          "name": "stdout"
        },
        {
          "output_type": "execute_result",
          "data": {
            "image/png": "[encoded data removed]",
            "text/plain": [
              "<Figure size 504x360 with 1 Axes>"
            ]
          },
          "metadata": {
            "tags": []
          },
          "execution_count": 7
        }
      ]
    }
  ]
}